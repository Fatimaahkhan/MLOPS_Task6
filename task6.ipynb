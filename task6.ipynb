{
 "cells": [
  {
   "cell_type": "code",
   "execution_count": 1,
   "metadata": {},
   "outputs": [
    {
     "name": "stdout",
     "output_type": "stream",
     "text": [
      "Requirement already satisfied: dvc in c:\\users\\shahb\\appdata\\local\\packages\\pythonsoftwarefoundation.python.3.10_qbz5n2kfra8p0\\localcache\\local-packages\\python310\\site-packages (3.50.1)\n",
      "Requirement already satisfied: omegaconf in c:\\users\\shahb\\appdata\\local\\packages\\pythonsoftwarefoundation.python.3.10_qbz5n2kfra8p0\\localcache\\local-packages\\python310\\site-packages (from dvc) (2.3.0)\n",
      "Requirement already satisfied: dvc-http>=2.29.0 in c:\\users\\shahb\\appdata\\local\\packages\\pythonsoftwarefoundation.python.3.10_qbz5n2kfra8p0\\localcache\\local-packages\\python310\\site-packages (from dvc) (2.32.0)\n",
      "Requirement already satisfied: rich>=12 in c:\\users\\shahb\\appdata\\local\\packages\\pythonsoftwarefoundation.python.3.10_qbz5n2kfra8p0\\localcache\\local-packages\\python310\\site-packages (from dvc) (13.7.1)\n",
      "Requirement already satisfied: scmrepo<4,>=3.3.2 in c:\\users\\shahb\\appdata\\local\\packages\\pythonsoftwarefoundation.python.3.10_qbz5n2kfra8p0\\localcache\\local-packages\\python310\\site-packages (from dvc) (3.3.2)\n",
      "Requirement already satisfied: dulwich in c:\\users\\shahb\\appdata\\local\\packages\\pythonsoftwarefoundation.python.3.10_qbz5n2kfra8p0\\localcache\\local-packages\\python310\\site-packages (from dvc) (0.22.1)\n",
      "Requirement already satisfied: networkx>=2.5 in c:\\users\\shahb\\appdata\\local\\packages\\pythonsoftwarefoundation.python.3.10_qbz5n2kfra8p0\\localcache\\local-packages\\python310\\site-packages (from dvc) (3.3)\n",
      "Requirement already satisfied: packaging>=19 in c:\\users\\shahb\\appdata\\local\\packages\\pythonsoftwarefoundation.python.3.10_qbz5n2kfra8p0\\localcache\\local-packages\\python310\\site-packages (from dvc) (23.2)\n",
      "Requirement already satisfied: attrs>=22.2.0 in c:\\users\\shahb\\appdata\\local\\packages\\pythonsoftwarefoundation.python.3.10_qbz5n2kfra8p0\\localcache\\local-packages\\python310\\site-packages (from dvc) (23.2.0)\n",
      "Requirement already satisfied: hydra-core>=1.1 in c:\\users\\shahb\\appdata\\local\\packages\\pythonsoftwarefoundation.python.3.10_qbz5n2kfra8p0\\localcache\\local-packages\\python310\\site-packages (from dvc) (1.3.2)\n",
      "Requirement already satisfied: psutil>=5.8 in c:\\users\\shahb\\appdata\\local\\packages\\pythonsoftwarefoundation.python.3.10_qbz5n2kfra8p0\\localcache\\local-packages\\python310\\site-packages (from dvc) (5.9.8)\n",
      "Requirement already satisfied: dvc-render<2,>=1.0.1 in c:\\users\\shahb\\appdata\\local\\packages\\pythonsoftwarefoundation.python.3.10_qbz5n2kfra8p0\\localcache\\local-packages\\python310\\site-packages (from dvc) (1.0.2)\n",
      "Requirement already satisfied: flufl.lock<8,>=5 in c:\\users\\shahb\\appdata\\local\\packages\\pythonsoftwarefoundation.python.3.10_qbz5n2kfra8p0\\localcache\\local-packages\\python310\\site-packages (from dvc) (7.1.1)\n",
      "Requirement already satisfied: shortuuid>=0.5 in c:\\users\\shahb\\appdata\\local\\packages\\pythonsoftwarefoundation.python.3.10_qbz5n2kfra8p0\\localcache\\local-packages\\python310\\site-packages (from dvc) (1.0.13)\n",
      "Requirement already satisfied: voluptuous>=0.11.7 in c:\\users\\shahb\\appdata\\local\\packages\\pythonsoftwarefoundation.python.3.10_qbz5n2kfra8p0\\localcache\\local-packages\\python310\\site-packages (from dvc) (0.14.2)\n",
      "Requirement already satisfied: tabulate>=0.8.7 in c:\\users\\shahb\\appdata\\local\\packages\\pythonsoftwarefoundation.python.3.10_qbz5n2kfra8p0\\localcache\\local-packages\\python310\\site-packages (from dvc) (0.9.0)\n",
      "Requirement already satisfied: zc.lockfile>=1.2.1 in c:\\users\\shahb\\appdata\\local\\packages\\pythonsoftwarefoundation.python.3.10_qbz5n2kfra8p0\\localcache\\local-packages\\python310\\site-packages (from dvc) (3.0.post1)\n",
      "Requirement already satisfied: tomlkit>=0.11.1 in c:\\users\\shahb\\appdata\\local\\packages\\pythonsoftwarefoundation.python.3.10_qbz5n2kfra8p0\\localcache\\local-packages\\python310\\site-packages (from dvc) (0.12.4)\n",
      "Requirement already satisfied: fsspec in c:\\users\\shahb\\appdata\\local\\packages\\pythonsoftwarefoundation.python.3.10_qbz5n2kfra8p0\\localcache\\local-packages\\python310\\site-packages (from dvc) (2024.3.1)\n",
      "Requirement already satisfied: dvc-data<3.16,>=3.15 in c:\\users\\shahb\\appdata\\local\\packages\\pythonsoftwarefoundation.python.3.10_qbz5n2kfra8p0\\localcache\\local-packages\\python310\\site-packages (from dvc) (3.15.1)\n",
      "Requirement already satisfied: celery in c:\\users\\shahb\\appdata\\local\\packages\\pythonsoftwarefoundation.python.3.10_qbz5n2kfra8p0\\localcache\\local-packages\\python310\\site-packages (from dvc) (5.4.0)\n",
      "Requirement already satisfied: dvc-task<1,>=0.3.0 in c:\\users\\shahb\\appdata\\local\\packages\\pythonsoftwarefoundation.python.3.10_qbz5n2kfra8p0\\localcache\\local-packages\\python310\\site-packages (from dvc) (0.4.0)\n",
      "Requirement already satisfied: flatten-dict<1,>=0.4.1 in c:\\users\\shahb\\appdata\\local\\packages\\pythonsoftwarefoundation.python.3.10_qbz5n2kfra8p0\\localcache\\local-packages\\python310\\site-packages (from dvc) (0.4.2)\n",
      "Requirement already satisfied: pydot>=1.2.4 in c:\\users\\shahb\\appdata\\local\\packages\\pythonsoftwarefoundation.python.3.10_qbz5n2kfra8p0\\localcache\\local-packages\\python310\\site-packages (from dvc) (2.0.0)\n",
      "Requirement already satisfied: shtab<2,>=1.3.4 in c:\\users\\shahb\\appdata\\local\\packages\\pythonsoftwarefoundation.python.3.10_qbz5n2kfra8p0\\localcache\\local-packages\\python310\\site-packages (from dvc) (1.7.1)\n",
      "Requirement already satisfied: gto<2,>=1.6.0 in c:\\users\\shahb\\appdata\\local\\packages\\pythonsoftwarefoundation.python.3.10_qbz5n2kfra8p0\\localcache\\local-packages\\python310\\site-packages (from dvc) (1.7.1)\n",
      "Requirement already satisfied: colorama>=0.3.9 in c:\\users\\shahb\\appdata\\local\\packages\\pythonsoftwarefoundation.python.3.10_qbz5n2kfra8p0\\localcache\\local-packages\\python310\\site-packages (from dvc) (0.4.6)\n",
      "Requirement already satisfied: kombu in c:\\users\\shahb\\appdata\\local\\packages\\pythonsoftwarefoundation.python.3.10_qbz5n2kfra8p0\\localcache\\local-packages\\python310\\site-packages (from dvc) (5.3.7)\n",
      "Requirement already satisfied: pygtrie>=2.3.2 in c:\\users\\shahb\\appdata\\local\\packages\\pythonsoftwarefoundation.python.3.10_qbz5n2kfra8p0\\localcache\\local-packages\\python310\\site-packages (from dvc) (2.5.0)\n",
      "Requirement already satisfied: configobj>=5.0.6 in c:\\users\\shahb\\appdata\\local\\packages\\pythonsoftwarefoundation.python.3.10_qbz5n2kfra8p0\\localcache\\local-packages\\python310\\site-packages (from dvc) (5.0.8)\n",
      "Requirement already satisfied: platformdirs<4,>=3.1.1 in c:\\users\\shahb\\appdata\\local\\packages\\pythonsoftwarefoundation.python.3.10_qbz5n2kfra8p0\\localcache\\local-packages\\python310\\site-packages (from dvc) (3.11.0)\n",
      "Requirement already satisfied: funcy>=1.14 in c:\\users\\shahb\\appdata\\local\\packages\\pythonsoftwarefoundation.python.3.10_qbz5n2kfra8p0\\localcache\\local-packages\\python310\\site-packages (from dvc) (2.0)\n",
      "Requirement already satisfied: dvc-objects in c:\\users\\shahb\\appdata\\local\\packages\\pythonsoftwarefoundation.python.3.10_qbz5n2kfra8p0\\localcache\\local-packages\\python310\\site-packages (from dvc) (5.1.0)\n",
      "Requirement already satisfied: grandalf<1,>=0.7 in c:\\users\\shahb\\appdata\\local\\packages\\pythonsoftwarefoundation.python.3.10_qbz5n2kfra8p0\\localcache\\local-packages\\python310\\site-packages (from dvc) (0.8)\n",
      "Requirement already satisfied: pathspec>=0.10.3 in c:\\users\\shahb\\appdata\\local\\packages\\pythonsoftwarefoundation.python.3.10_qbz5n2kfra8p0\\localcache\\local-packages\\python310\\site-packages (from dvc) (0.12.1)\n",
      "Requirement already satisfied: requests>=2.22 in c:\\users\\shahb\\appdata\\local\\packages\\pythonsoftwarefoundation.python.3.10_qbz5n2kfra8p0\\localcache\\local-packages\\python310\\site-packages (from dvc) (2.31.0)\n",
      "Requirement already satisfied: distro>=1.3 in c:\\users\\shahb\\appdata\\local\\packages\\pythonsoftwarefoundation.python.3.10_qbz5n2kfra8p0\\localcache\\local-packages\\python310\\site-packages (from dvc) (1.9.0)\n",
      "Requirement already satisfied: iterative-telemetry>=0.0.7 in c:\\users\\shahb\\appdata\\local\\packages\\pythonsoftwarefoundation.python.3.10_qbz5n2kfra8p0\\localcache\\local-packages\\python310\\site-packages (from dvc) (0.0.8)\n",
      "Requirement already satisfied: dpath<3,>=2.1.0 in c:\\users\\shahb\\appdata\\local\\packages\\pythonsoftwarefoundation.python.3.10_qbz5n2kfra8p0\\localcache\\local-packages\\python310\\site-packages (from dvc) (2.1.6)\n",
      "Requirement already satisfied: pyparsing>=2.4.7 in c:\\users\\shahb\\appdata\\local\\packages\\pythonsoftwarefoundation.python.3.10_qbz5n2kfra8p0\\localcache\\local-packages\\python310\\site-packages (from dvc) (3.1.2)\n",
      "Requirement already satisfied: tqdm<5,>=4.63.1 in c:\\users\\shahb\\appdata\\local\\packages\\pythonsoftwarefoundation.python.3.10_qbz5n2kfra8p0\\localcache\\local-packages\\python310\\site-packages (from dvc) (4.66.2)\n",
      "Requirement already satisfied: ruamel.yaml>=0.17.11 in c:\\users\\shahb\\appdata\\local\\packages\\pythonsoftwarefoundation.python.3.10_qbz5n2kfra8p0\\localcache\\local-packages\\python310\\site-packages (from dvc) (0.18.6)\n",
      "Requirement already satisfied: dvc-studio-client<1,>=0.20 in c:\\users\\shahb\\appdata\\local\\packages\\pythonsoftwarefoundation.python.3.10_qbz5n2kfra8p0\\localcache\\local-packages\\python310\\site-packages (from dvc) (0.20.0)\n",
      "Requirement already satisfied: six in c:\\users\\shahb\\appdata\\local\\packages\\pythonsoftwarefoundation.python.3.10_qbz5n2kfra8p0\\localcache\\local-packages\\python310\\site-packages (from configobj>=5.0.6->dvc) (1.16.0)\n",
      "Requirement already satisfied: dictdiffer>=0.8.1 in c:\\users\\shahb\\appdata\\local\\packages\\pythonsoftwarefoundation.python.3.10_qbz5n2kfra8p0\\localcache\\local-packages\\python310\\site-packages (from dvc-data<3.16,>=3.15->dvc) (0.9.0)\n",
      "Requirement already satisfied: sqltrie<1,>=0.11.0 in c:\\users\\shahb\\appdata\\local\\packages\\pythonsoftwarefoundation.python.3.10_qbz5n2kfra8p0\\localcache\\local-packages\\python310\\site-packages (from dvc-data<3.16,>=3.15->dvc) (0.11.0)\n",
      "Requirement already satisfied: diskcache>=5.2.1 in c:\\users\\shahb\\appdata\\local\\packages\\pythonsoftwarefoundation.python.3.10_qbz5n2kfra8p0\\localcache\\local-packages\\python310\\site-packages (from dvc-data<3.16,>=3.15->dvc) (5.6.3)\n",
      "Requirement already satisfied: aiohttp-retry>=2.5.0 in c:\\users\\shahb\\appdata\\local\\packages\\pythonsoftwarefoundation.python.3.10_qbz5n2kfra8p0\\localcache\\local-packages\\python310\\site-packages (from dvc-http>=2.29.0->dvc) (2.8.3)\n",
      "Requirement already satisfied: pywin32>=225 in c:\\users\\shahb\\appdata\\local\\packages\\pythonsoftwarefoundation.python.3.10_qbz5n2kfra8p0\\localcache\\local-packages\\python310\\site-packages (from dvc-task<1,>=0.3.0->dvc) (306)\n",
      "Requirement already satisfied: click-plugins>=1.1.1 in c:\\users\\shahb\\appdata\\local\\packages\\pythonsoftwarefoundation.python.3.10_qbz5n2kfra8p0\\localcache\\local-packages\\python310\\site-packages (from celery->dvc) (1.1.1)\n",
      "Requirement already satisfied: tzdata>=2022.7 in c:\\users\\shahb\\appdata\\local\\packages\\pythonsoftwarefoundation.python.3.10_qbz5n2kfra8p0\\localcache\\local-packages\\python310\\site-packages (from celery->dvc) (2024.1)\n",
      "Requirement already satisfied: click<9.0,>=8.1.2 in c:\\users\\shahb\\appdata\\local\\packages\\pythonsoftwarefoundation.python.3.10_qbz5n2kfra8p0\\localcache\\local-packages\\python310\\site-packages (from celery->dvc) (8.1.7)\n",
      "Requirement already satisfied: billiard<5.0,>=4.2.0 in c:\\users\\shahb\\appdata\\local\\packages\\pythonsoftwarefoundation.python.3.10_qbz5n2kfra8p0\\localcache\\local-packages\\python310\\site-packages (from celery->dvc) (4.2.0)\n",
      "Requirement already satisfied: python-dateutil>=2.8.2 in c:\\users\\shahb\\appdata\\local\\packages\\pythonsoftwarefoundation.python.3.10_qbz5n2kfra8p0\\localcache\\local-packages\\python310\\site-packages (from celery->dvc) (2.9.0.post0)\n",
      "Requirement already satisfied: click-didyoumean>=0.3.0 in c:\\users\\shahb\\appdata\\local\\packages\\pythonsoftwarefoundation.python.3.10_qbz5n2kfra8p0\\localcache\\local-packages\\python310\\site-packages (from celery->dvc) (0.3.1)\n",
      "Requirement already satisfied: vine<6.0,>=5.1.0 in c:\\users\\shahb\\appdata\\local\\packages\\pythonsoftwarefoundation.python.3.10_qbz5n2kfra8p0\\localcache\\local-packages\\python310\\site-packages (from celery->dvc) (5.1.0)\n",
      "Requirement already satisfied: click-repl>=0.2.0 in c:\\users\\shahb\\appdata\\local\\packages\\pythonsoftwarefoundation.python.3.10_qbz5n2kfra8p0\\localcache\\local-packages\\python310\\site-packages (from celery->dvc) (0.3.0)\n",
      "Requirement already satisfied: atpublic>=2.3 in c:\\users\\shahb\\appdata\\local\\packages\\pythonsoftwarefoundation.python.3.10_qbz5n2kfra8p0\\localcache\\local-packages\\python310\\site-packages (from flufl.lock<8,>=5->dvc) (4.1.0)\n",
      "Requirement already satisfied: typer>=0.4.1 in c:\\users\\shahb\\appdata\\local\\packages\\pythonsoftwarefoundation.python.3.10_qbz5n2kfra8p0\\localcache\\local-packages\\python310\\site-packages (from gto<2,>=1.6.0->dvc) (0.12.3)\n",
      "Requirement already satisfied: pydantic!=2.0.0,<3,>=1.9.0 in c:\\users\\shahb\\appdata\\local\\packages\\pythonsoftwarefoundation.python.3.10_qbz5n2kfra8p0\\localcache\\local-packages\\python310\\site-packages (from gto<2,>=1.6.0->dvc) (1.10.15)\n",
      "Requirement already satisfied: semver>=2.13.0 in c:\\users\\shahb\\appdata\\local\\packages\\pythonsoftwarefoundation.python.3.10_qbz5n2kfra8p0\\localcache\\local-packages\\python310\\site-packages (from gto<2,>=1.6.0->dvc) (3.0.2)\n",
      "Requirement already satisfied: entrypoints in c:\\users\\shahb\\appdata\\local\\packages\\pythonsoftwarefoundation.python.3.10_qbz5n2kfra8p0\\localcache\\local-packages\\python310\\site-packages (from gto<2,>=1.6.0->dvc) (0.4)\n",
      "Requirement already satisfied: antlr4-python3-runtime==4.9.* in c:\\users\\shahb\\appdata\\local\\packages\\pythonsoftwarefoundation.python.3.10_qbz5n2kfra8p0\\localcache\\local-packages\\python310\\site-packages (from hydra-core>=1.1->dvc) (4.9.3)\n",
      "Requirement already satisfied: filelock in c:\\users\\shahb\\appdata\\local\\packages\\pythonsoftwarefoundation.python.3.10_qbz5n2kfra8p0\\localcache\\local-packages\\python310\\site-packages (from iterative-telemetry>=0.0.7->dvc) (3.13.4)\n",
      "Requirement already satisfied: appdirs in c:\\users\\shahb\\appdata\\local\\packages\\pythonsoftwarefoundation.python.3.10_qbz5n2kfra8p0\\localcache\\local-packages\\python310\\site-packages (from iterative-telemetry>=0.0.7->dvc) (1.4.4)\n",
      "Requirement already satisfied: amqp<6.0.0,>=5.1.1 in c:\\users\\shahb\\appdata\\local\\packages\\pythonsoftwarefoundation.python.3.10_qbz5n2kfra8p0\\localcache\\local-packages\\python310\\site-packages (from kombu->dvc) (5.2.0)\n",
      "Requirement already satisfied: PyYAML>=5.1.0 in c:\\users\\shahb\\appdata\\local\\packages\\pythonsoftwarefoundation.python.3.10_qbz5n2kfra8p0\\localcache\\local-packages\\python310\\site-packages (from omegaconf->dvc) (6.0.1)\n",
      "Requirement already satisfied: idna<4,>=2.5 in c:\\users\\shahb\\appdata\\local\\packages\\pythonsoftwarefoundation.python.3.10_qbz5n2kfra8p0\\localcache\\local-packages\\python310\\site-packages (from requests>=2.22->dvc) (3.6)\n",
      "Requirement already satisfied: certifi>=2017.4.17 in c:\\users\\shahb\\appdata\\local\\packages\\pythonsoftwarefoundation.python.3.10_qbz5n2kfra8p0\\localcache\\local-packages\\python310\\site-packages (from requests>=2.22->dvc) (2023.11.17)\n",
      "Requirement already satisfied: charset-normalizer<4,>=2 in c:\\users\\shahb\\appdata\\local\\packages\\pythonsoftwarefoundation.python.3.10_qbz5n2kfra8p0\\localcache\\local-packages\\python310\\site-packages (from requests>=2.22->dvc) (3.3.2)\n",
      "Requirement already satisfied: urllib3<3,>=1.21.1 in c:\\users\\shahb\\appdata\\local\\packages\\pythonsoftwarefoundation.python.3.10_qbz5n2kfra8p0\\localcache\\local-packages\\python310\\site-packages (from requests>=2.22->dvc) (2.1.0)\n",
      "Requirement already satisfied: markdown-it-py>=2.2.0 in c:\\users\\shahb\\appdata\\local\\packages\\pythonsoftwarefoundation.python.3.10_qbz5n2kfra8p0\\localcache\\local-packages\\python310\\site-packages (from rich>=12->dvc) (3.0.0)\n",
      "Requirement already satisfied: pygments<3.0.0,>=2.13.0 in c:\\users\\shahb\\appdata\\local\\packages\\pythonsoftwarefoundation.python.3.10_qbz5n2kfra8p0\\localcache\\local-packages\\python310\\site-packages (from rich>=12->dvc) (2.17.2)\n",
      "Requirement already satisfied: ruamel.yaml.clib>=0.2.7 in c:\\users\\shahb\\appdata\\local\\packages\\pythonsoftwarefoundation.python.3.10_qbz5n2kfra8p0\\localcache\\local-packages\\python310\\site-packages (from ruamel.yaml>=0.17.11->dvc) (0.2.8)\n",
      "Requirement already satisfied: gitpython>3 in c:\\users\\shahb\\appdata\\local\\packages\\pythonsoftwarefoundation.python.3.10_qbz5n2kfra8p0\\localcache\\local-packages\\python310\\site-packages (from scmrepo<4,>=3.3.2->dvc) (3.1.43)\n",
      "Requirement already satisfied: pygit2>=1.14.0 in c:\\users\\shahb\\appdata\\local\\packages\\pythonsoftwarefoundation.python.3.10_qbz5n2kfra8p0\\localcache\\local-packages\\python310\\site-packages (from scmrepo<4,>=3.3.2->dvc) (1.14.1)\n",
      "Requirement already satisfied: asyncssh<3,>=2.13.1 in c:\\users\\shahb\\appdata\\local\\packages\\pythonsoftwarefoundation.python.3.10_qbz5n2kfra8p0\\localcache\\local-packages\\python310\\site-packages (from scmrepo<4,>=3.3.2->dvc) (2.14.2)\n",
      "Requirement already satisfied: setuptools in c:\\program files\\windowsapps\\pythonsoftwarefoundation.python.3.10_3.10.3056.0_x64__qbz5n2kfra8p0\\lib\\site-packages (from zc.lockfile>=1.2.1->dvc) (65.5.0)\n",
      "Requirement already satisfied: aiohttp in c:\\users\\shahb\\appdata\\local\\packages\\pythonsoftwarefoundation.python.3.10_qbz5n2kfra8p0\\localcache\\local-packages\\python310\\site-packages (from aiohttp-retry>=2.5.0->dvc-http>=2.29.0->dvc) (3.9.5)\n",
      "Requirement already satisfied: cryptography>=39.0 in c:\\users\\shahb\\appdata\\local\\packages\\pythonsoftwarefoundation.python.3.10_qbz5n2kfra8p0\\localcache\\local-packages\\python310\\site-packages (from asyncssh<3,>=2.13.1->scmrepo<4,>=3.3.2->dvc) (42.0.5)\n",
      "Requirement already satisfied: typing-extensions>=3.6 in c:\\users\\shahb\\appdata\\local\\packages\\pythonsoftwarefoundation.python.3.10_qbz5n2kfra8p0\\localcache\\local-packages\\python310\\site-packages (from asyncssh<3,>=2.13.1->scmrepo<4,>=3.3.2->dvc) (4.10.0)\n",
      "Requirement already satisfied: prompt-toolkit>=3.0.36 in c:\\users\\shahb\\appdata\\local\\packages\\pythonsoftwarefoundation.python.3.10_qbz5n2kfra8p0\\localcache\\local-packages\\python310\\site-packages (from click-repl>=0.2.0->celery->dvc) (3.0.43)\n",
      "Requirement already satisfied: gitdb<5,>=4.0.1 in c:\\users\\shahb\\appdata\\local\\packages\\pythonsoftwarefoundation.python.3.10_qbz5n2kfra8p0\\localcache\\local-packages\\python310\\site-packages (from gitpython>3->scmrepo<4,>=3.3.2->dvc) (4.0.11)\n",
      "Requirement already satisfied: mdurl~=0.1 in c:\\users\\shahb\\appdata\\local\\packages\\pythonsoftwarefoundation.python.3.10_qbz5n2kfra8p0\\localcache\\local-packages\\python310\\site-packages (from markdown-it-py>=2.2.0->rich>=12->dvc) (0.1.2)\n",
      "Requirement already satisfied: cffi>=1.16.0 in c:\\users\\shahb\\appdata\\local\\packages\\pythonsoftwarefoundation.python.3.10_qbz5n2kfra8p0\\localcache\\local-packages\\python310\\site-packages (from pygit2>=1.14.0->scmrepo<4,>=3.3.2->dvc) (1.16.0)\n",
      "Requirement already satisfied: orjson in c:\\users\\shahb\\appdata\\local\\packages\\pythonsoftwarefoundation.python.3.10_qbz5n2kfra8p0\\localcache\\local-packages\\python310\\site-packages (from sqltrie<1,>=0.11.0->dvc-data<3.16,>=3.15->dvc) (3.10.1)\n",
      "Requirement already satisfied: shellingham>=1.3.0 in c:\\users\\shahb\\appdata\\local\\packages\\pythonsoftwarefoundation.python.3.10_qbz5n2kfra8p0\\localcache\\local-packages\\python310\\site-packages (from typer>=0.4.1->gto<2,>=1.6.0->dvc) (1.5.4)\n",
      "Requirement already satisfied: async-timeout<5.0,>=4.0 in c:\\users\\shahb\\appdata\\local\\packages\\pythonsoftwarefoundation.python.3.10_qbz5n2kfra8p0\\localcache\\local-packages\\python310\\site-packages (from aiohttp->aiohttp-retry>=2.5.0->dvc-http>=2.29.0->dvc) (4.0.3)\n",
      "Requirement already satisfied: yarl<2.0,>=1.0 in c:\\users\\shahb\\appdata\\local\\packages\\pythonsoftwarefoundation.python.3.10_qbz5n2kfra8p0\\localcache\\local-packages\\python310\\site-packages (from aiohttp->aiohttp-retry>=2.5.0->dvc-http>=2.29.0->dvc) (1.9.4)\n",
      "Requirement already satisfied: aiosignal>=1.1.2 in c:\\users\\shahb\\appdata\\local\\packages\\pythonsoftwarefoundation.python.3.10_qbz5n2kfra8p0\\localcache\\local-packages\\python310\\site-packages (from aiohttp->aiohttp-retry>=2.5.0->dvc-http>=2.29.0->dvc) (1.3.1)\n",
      "Requirement already satisfied: multidict<7.0,>=4.5 in c:\\users\\shahb\\appdata\\local\\packages\\pythonsoftwarefoundation.python.3.10_qbz5n2kfra8p0\\localcache\\local-packages\\python310\\site-packages (from aiohttp->aiohttp-retry>=2.5.0->dvc-http>=2.29.0->dvc) (6.0.5)\n",
      "Requirement already satisfied: frozenlist>=1.1.1 in c:\\users\\shahb\\appdata\\local\\packages\\pythonsoftwarefoundation.python.3.10_qbz5n2kfra8p0\\localcache\\local-packages\\python310\\site-packages (from aiohttp->aiohttp-retry>=2.5.0->dvc-http>=2.29.0->dvc) (1.4.1)\n",
      "Requirement already satisfied: pycparser in c:\\users\\shahb\\appdata\\local\\packages\\pythonsoftwarefoundation.python.3.10_qbz5n2kfra8p0\\localcache\\local-packages\\python310\\site-packages (from cffi>=1.16.0->pygit2>=1.14.0->scmrepo<4,>=3.3.2->dvc) (2.22)\n",
      "Requirement already satisfied: smmap<6,>=3.0.1 in c:\\users\\shahb\\appdata\\local\\packages\\pythonsoftwarefoundation.python.3.10_qbz5n2kfra8p0\\localcache\\local-packages\\python310\\site-packages (from gitdb<5,>=4.0.1->gitpython>3->scmrepo<4,>=3.3.2->dvc) (5.0.1)\n",
      "Requirement already satisfied: wcwidth in c:\\users\\shahb\\appdata\\local\\packages\\pythonsoftwarefoundation.python.3.10_qbz5n2kfra8p0\\localcache\\local-packages\\python310\\site-packages (from prompt-toolkit>=3.0.36->click-repl>=0.2.0->celery->dvc) (0.2.13)\n",
      "Note: you may need to restart the kernel to use updated packages.\n"
     ]
    },
    {
     "name": "stderr",
     "output_type": "stream",
     "text": [
      "\n",
      "[notice] A new release of pip is available: 23.0.1 -> 24.0\n",
      "[notice] To update, run: C:\\Users\\shahb\\AppData\\Local\\Microsoft\\WindowsApps\\PythonSoftwareFoundation.Python.3.10_qbz5n2kfra8p0\\python.exe -m pip install --upgrade pip\n"
     ]
    }
   ],
   "source": [
    "pip install dvc\n"
   ]
  },
  {
   "cell_type": "code",
   "execution_count": 2,
   "metadata": {},
   "outputs": [
    {
     "name": "stdout",
     "output_type": "stream",
     "text": [
      "Initialized empty Git repository in G:/SOFTWARE ENGINEERING/SEMESTER 8/MLOPS/Task6/.git/\n"
     ]
    }
   ],
   "source": [
    "!git init"
   ]
  },
  {
   "cell_type": "code",
   "execution_count": 3,
   "metadata": {},
   "outputs": [
    {
     "name": "stdout",
     "output_type": "stream",
     "text": [
      "Initialized DVC repository.\n",
      "\n",
      "You can now commit the changes to git.\n",
      "\n",
      "+---------------------------------------------------------------------+\n",
      "|                                                                     |\n",
      "|        DVC has enabled anonymous aggregate usage analytics.         |\n",
      "|     Read the analytics documentation (and how to opt-out) here:     |\n",
      "|             <https://dvc.org/doc/user-guide/analytics>              |\n",
      "|                                                                     |\n",
      "+---------------------------------------------------------------------+\n",
      "\n",
      "What's next?\n",
      "------------\n",
      "- Check out the documentation: <https://dvc.org/doc>\n",
      "- Get help and share ideas: <https://dvc.org/chat>\n",
      "- Star us on GitHub: <https://github.com/iterative/dvc>\n"
     ]
    }
   ],
   "source": [
    "!dvc init\n"
   ]
  },
  {
   "cell_type": "code",
   "execution_count": 4,
   "metadata": {},
   "outputs": [
    {
     "name": "stdout",
     "output_type": "stream",
     "text": [
      "Setting 'task6' as a default remote.\n"
     ]
    }
   ],
   "source": [
    "!dvc remote add -d task6 gdrive://1fUhvtgV2y2Lfx-cR42l0J5e4otkVrjpg\n"
   ]
  },
  {
   "cell_type": "code",
   "execution_count": 5,
   "metadata": {},
   "outputs": [
    {
     "name": "stdout",
     "output_type": "stream",
     "text": [
      "\n",
      "To track the changes with git, run:\n",
      "\n",
      "\tgit add tmdb_5000_credits.csv.dvc .gitignore\n",
      "\n",
      "To enable auto staging, run:\n",
      "\n",
      "\tdvc config core.autostage true\n"
     ]
    },
    {
     "name": "stderr",
     "output_type": "stream",
     "text": [
      "⠋ Checking graph\n",
      "\n"
     ]
    }
   ],
   "source": [
    "!dvc add tmdb_5000_credits.csv\n"
   ]
  },
  {
   "cell_type": "code",
   "execution_count": 6,
   "metadata": {},
   "outputs": [
    {
     "name": "stdout",
     "output_type": "stream",
     "text": [
      "Requirement already satisfied: dvc-gdrive in c:\\users\\shahb\\appdata\\local\\packages\\pythonsoftwarefoundation.python.3.10_qbz5n2kfra8p0\\localcache\\local-packages\\python310\\site-packages (3.0.1)\n",
      "Requirement already satisfied: dvc in c:\\users\\shahb\\appdata\\local\\packages\\pythonsoftwarefoundation.python.3.10_qbz5n2kfra8p0\\localcache\\local-packages\\python310\\site-packages (from dvc-gdrive) (3.50.1)\n",
      "Requirement already satisfied: pydrive2[fsspec]>=1.19.0 in c:\\users\\shahb\\appdata\\local\\packages\\pythonsoftwarefoundation.python.3.10_qbz5n2kfra8p0\\localcache\\local-packages\\python310\\site-packages (from dvc-gdrive) (1.19.0)\n",
      "Requirement already satisfied: oauth2client>=4.0.0 in c:\\users\\shahb\\appdata\\local\\packages\\pythonsoftwarefoundation.python.3.10_qbz5n2kfra8p0\\localcache\\local-packages\\python310\\site-packages (from pydrive2[fsspec]>=1.19.0->dvc-gdrive) (4.1.3)\n",
      "Requirement already satisfied: pyOpenSSL>=19.1.0 in c:\\users\\shahb\\appdata\\local\\packages\\pythonsoftwarefoundation.python.3.10_qbz5n2kfra8p0\\localcache\\local-packages\\python310\\site-packages (from pydrive2[fsspec]>=1.19.0->dvc-gdrive) (24.1.0)\n",
      "Requirement already satisfied: google-api-python-client>=1.12.5 in c:\\users\\shahb\\appdata\\local\\packages\\pythonsoftwarefoundation.python.3.10_qbz5n2kfra8p0\\localcache\\local-packages\\python310\\site-packages (from pydrive2[fsspec]>=1.19.0->dvc-gdrive) (2.127.0)\n",
      "Requirement already satisfied: PyYAML>=3.0 in c:\\users\\shahb\\appdata\\local\\packages\\pythonsoftwarefoundation.python.3.10_qbz5n2kfra8p0\\localcache\\local-packages\\python310\\site-packages (from pydrive2[fsspec]>=1.19.0->dvc-gdrive) (6.0.1)\n",
      "Requirement already satisfied: funcy>=1.14 in c:\\users\\shahb\\appdata\\local\\packages\\pythonsoftwarefoundation.python.3.10_qbz5n2kfra8p0\\localcache\\local-packages\\python310\\site-packages (from pydrive2[fsspec]>=1.19.0->dvc-gdrive) (2.0)\n",
      "Requirement already satisfied: fsspec>=2021.07.0 in c:\\users\\shahb\\appdata\\local\\packages\\pythonsoftwarefoundation.python.3.10_qbz5n2kfra8p0\\localcache\\local-packages\\python310\\site-packages (from pydrive2[fsspec]>=1.19.0->dvc-gdrive) (2024.3.1)\n",
      "Requirement already satisfied: tqdm>=4.0.0 in c:\\users\\shahb\\appdata\\local\\packages\\pythonsoftwarefoundation.python.3.10_qbz5n2kfra8p0\\localcache\\local-packages\\python310\\site-packages (from pydrive2[fsspec]>=1.19.0->dvc-gdrive) (4.66.2)\n",
      "Requirement already satisfied: appdirs>=1.4.3 in c:\\users\\shahb\\appdata\\local\\packages\\pythonsoftwarefoundation.python.3.10_qbz5n2kfra8p0\\localcache\\local-packages\\python310\\site-packages (from pydrive2[fsspec]>=1.19.0->dvc-gdrive) (1.4.4)\n",
      "Requirement already satisfied: hydra-core>=1.1 in c:\\users\\shahb\\appdata\\local\\packages\\pythonsoftwarefoundation.python.3.10_qbz5n2kfra8p0\\localcache\\local-packages\\python310\\site-packages (from dvc->dvc-gdrive) (1.3.2)\n",
      "Requirement already satisfied: omegaconf in c:\\users\\shahb\\appdata\\local\\packages\\pythonsoftwarefoundation.python.3.10_qbz5n2kfra8p0\\localcache\\local-packages\\python310\\site-packages (from dvc->dvc-gdrive) (2.3.0)\n",
      "Requirement already satisfied: flufl.lock<8,>=5 in c:\\users\\shahb\\appdata\\local\\packages\\pythonsoftwarefoundation.python.3.10_qbz5n2kfra8p0\\localcache\\local-packages\\python310\\site-packages (from dvc->dvc-gdrive) (7.1.1)\n",
      "Requirement already satisfied: psutil>=5.8 in c:\\users\\shahb\\appdata\\local\\packages\\pythonsoftwarefoundation.python.3.10_qbz5n2kfra8p0\\localcache\\local-packages\\python310\\site-packages (from dvc->dvc-gdrive) (5.9.8)\n",
      "Requirement already satisfied: distro>=1.3 in c:\\users\\shahb\\appdata\\local\\packages\\pythonsoftwarefoundation.python.3.10_qbz5n2kfra8p0\\localcache\\local-packages\\python310\\site-packages (from dvc->dvc-gdrive) (1.9.0)\n",
      "Requirement already satisfied: gto<2,>=1.6.0 in c:\\users\\shahb\\appdata\\local\\packages\\pythonsoftwarefoundation.python.3.10_qbz5n2kfra8p0\\localcache\\local-packages\\python310\\site-packages (from dvc->dvc-gdrive) (1.7.1)\n",
      "Requirement already satisfied: kombu in c:\\users\\shahb\\appdata\\local\\packages\\pythonsoftwarefoundation.python.3.10_qbz5n2kfra8p0\\localcache\\local-packages\\python310\\site-packages (from dvc->dvc-gdrive) (5.3.7)\n",
      "Requirement already satisfied: platformdirs<4,>=3.1.1 in c:\\users\\shahb\\appdata\\local\\packages\\pythonsoftwarefoundation.python.3.10_qbz5n2kfra8p0\\localcache\\local-packages\\python310\\site-packages (from dvc->dvc-gdrive) (3.11.0)\n",
      "Requirement already satisfied: tomlkit>=0.11.1 in c:\\users\\shahb\\appdata\\local\\packages\\pythonsoftwarefoundation.python.3.10_qbz5n2kfra8p0\\localcache\\local-packages\\python310\\site-packages (from dvc->dvc-gdrive) (0.12.4)\n",
      "Requirement already satisfied: iterative-telemetry>=0.0.7 in c:\\users\\shahb\\appdata\\local\\packages\\pythonsoftwarefoundation.python.3.10_qbz5n2kfra8p0\\localcache\\local-packages\\python310\\site-packages (from dvc->dvc-gdrive) (0.0.8)\n",
      "Requirement already satisfied: networkx>=2.5 in c:\\users\\shahb\\appdata\\local\\packages\\pythonsoftwarefoundation.python.3.10_qbz5n2kfra8p0\\localcache\\local-packages\\python310\\site-packages (from dvc->dvc-gdrive) (3.3)\n",
      "Requirement already satisfied: flatten-dict<1,>=0.4.1 in c:\\users\\shahb\\appdata\\local\\packages\\pythonsoftwarefoundation.python.3.10_qbz5n2kfra8p0\\localcache\\local-packages\\python310\\site-packages (from dvc->dvc-gdrive) (0.4.2)\n",
      "Requirement already satisfied: tabulate>=0.8.7 in c:\\users\\shahb\\appdata\\local\\packages\\pythonsoftwarefoundation.python.3.10_qbz5n2kfra8p0\\localcache\\local-packages\\python310\\site-packages (from dvc->dvc-gdrive) (0.9.0)\n",
      "Requirement already satisfied: shtab<2,>=1.3.4 in c:\\users\\shahb\\appdata\\local\\packages\\pythonsoftwarefoundation.python.3.10_qbz5n2kfra8p0\\localcache\\local-packages\\python310\\site-packages (from dvc->dvc-gdrive) (1.7.1)\n",
      "Requirement already satisfied: zc.lockfile>=1.2.1 in c:\\users\\shahb\\appdata\\local\\packages\\pythonsoftwarefoundation.python.3.10_qbz5n2kfra8p0\\localcache\\local-packages\\python310\\site-packages (from dvc->dvc-gdrive) (3.0.post1)\n",
      "Requirement already satisfied: dpath<3,>=2.1.0 in c:\\users\\shahb\\appdata\\local\\packages\\pythonsoftwarefoundation.python.3.10_qbz5n2kfra8p0\\localcache\\local-packages\\python310\\site-packages (from dvc->dvc-gdrive) (2.1.6)\n",
      "Requirement already satisfied: scmrepo<4,>=3.3.2 in c:\\users\\shahb\\appdata\\local\\packages\\pythonsoftwarefoundation.python.3.10_qbz5n2kfra8p0\\localcache\\local-packages\\python310\\site-packages (from dvc->dvc-gdrive) (3.3.2)\n",
      "Requirement already satisfied: voluptuous>=0.11.7 in c:\\users\\shahb\\appdata\\local\\packages\\pythonsoftwarefoundation.python.3.10_qbz5n2kfra8p0\\localcache\\local-packages\\python310\\site-packages (from dvc->dvc-gdrive) (0.14.2)\n",
      "Requirement already satisfied: packaging>=19 in c:\\users\\shahb\\appdata\\local\\packages\\pythonsoftwarefoundation.python.3.10_qbz5n2kfra8p0\\localcache\\local-packages\\python310\\site-packages (from dvc->dvc-gdrive) (23.2)\n",
      "Requirement already satisfied: ruamel.yaml>=0.17.11 in c:\\users\\shahb\\appdata\\local\\packages\\pythonsoftwarefoundation.python.3.10_qbz5n2kfra8p0\\localcache\\local-packages\\python310\\site-packages (from dvc->dvc-gdrive) (0.18.6)\n",
      "Requirement already satisfied: pygtrie>=2.3.2 in c:\\users\\shahb\\appdata\\local\\packages\\pythonsoftwarefoundation.python.3.10_qbz5n2kfra8p0\\localcache\\local-packages\\python310\\site-packages (from dvc->dvc-gdrive) (2.5.0)\n",
      "Requirement already satisfied: dvc-data<3.16,>=3.15 in c:\\users\\shahb\\appdata\\local\\packages\\pythonsoftwarefoundation.python.3.10_qbz5n2kfra8p0\\localcache\\local-packages\\python310\\site-packages (from dvc->dvc-gdrive) (3.15.1)\n",
      "Requirement already satisfied: celery in c:\\users\\shahb\\appdata\\local\\packages\\pythonsoftwarefoundation.python.3.10_qbz5n2kfra8p0\\localcache\\local-packages\\python310\\site-packages (from dvc->dvc-gdrive) (5.4.0)\n",
      "Requirement already satisfied: configobj>=5.0.6 in c:\\users\\shahb\\appdata\\local\\packages\\pythonsoftwarefoundation.python.3.10_qbz5n2kfra8p0\\localcache\\local-packages\\python310\\site-packages (from dvc->dvc-gdrive) (5.0.8)\n",
      "Requirement already satisfied: grandalf<1,>=0.7 in c:\\users\\shahb\\appdata\\local\\packages\\pythonsoftwarefoundation.python.3.10_qbz5n2kfra8p0\\localcache\\local-packages\\python310\\site-packages (from dvc->dvc-gdrive) (0.8)\n",
      "Requirement already satisfied: dulwich in c:\\users\\shahb\\appdata\\local\\packages\\pythonsoftwarefoundation.python.3.10_qbz5n2kfra8p0\\localcache\\local-packages\\python310\\site-packages (from dvc->dvc-gdrive) (0.22.1)\n",
      "Requirement already satisfied: shortuuid>=0.5 in c:\\users\\shahb\\appdata\\local\\packages\\pythonsoftwarefoundation.python.3.10_qbz5n2kfra8p0\\localcache\\local-packages\\python310\\site-packages (from dvc->dvc-gdrive) (1.0.13)\n",
      "Requirement already satisfied: dvc-objects in c:\\users\\shahb\\appdata\\local\\packages\\pythonsoftwarefoundation.python.3.10_qbz5n2kfra8p0\\localcache\\local-packages\\python310\\site-packages (from dvc->dvc-gdrive) (5.1.0)\n",
      "Requirement already satisfied: pyparsing>=2.4.7 in c:\\users\\shahb\\appdata\\local\\packages\\pythonsoftwarefoundation.python.3.10_qbz5n2kfra8p0\\localcache\\local-packages\\python310\\site-packages (from dvc->dvc-gdrive) (3.1.2)\n",
      "Requirement already satisfied: pydot>=1.2.4 in c:\\users\\shahb\\appdata\\local\\packages\\pythonsoftwarefoundation.python.3.10_qbz5n2kfra8p0\\localcache\\local-packages\\python310\\site-packages (from dvc->dvc-gdrive) (2.0.0)\n",
      "Requirement already satisfied: rich>=12 in c:\\users\\shahb\\appdata\\local\\packages\\pythonsoftwarefoundation.python.3.10_qbz5n2kfra8p0\\localcache\\local-packages\\python310\\site-packages (from dvc->dvc-gdrive) (13.7.1)\n",
      "Requirement already satisfied: pathspec>=0.10.3 in c:\\users\\shahb\\appdata\\local\\packages\\pythonsoftwarefoundation.python.3.10_qbz5n2kfra8p0\\localcache\\local-packages\\python310\\site-packages (from dvc->dvc-gdrive) (0.12.1)\n",
      "Requirement already satisfied: dvc-studio-client<1,>=0.20 in c:\\users\\shahb\\appdata\\local\\packages\\pythonsoftwarefoundation.python.3.10_qbz5n2kfra8p0\\localcache\\local-packages\\python310\\site-packages (from dvc->dvc-gdrive) (0.20.0)\n",
      "Requirement already satisfied: dvc-http>=2.29.0 in c:\\users\\shahb\\appdata\\local\\packages\\pythonsoftwarefoundation.python.3.10_qbz5n2kfra8p0\\localcache\\local-packages\\python310\\site-packages (from dvc->dvc-gdrive) (2.32.0)\n",
      "Requirement already satisfied: dvc-render<2,>=1.0.1 in c:\\users\\shahb\\appdata\\local\\packages\\pythonsoftwarefoundation.python.3.10_qbz5n2kfra8p0\\localcache\\local-packages\\python310\\site-packages (from dvc->dvc-gdrive) (1.0.2)\n",
      "Requirement already satisfied: attrs>=22.2.0 in c:\\users\\shahb\\appdata\\local\\packages\\pythonsoftwarefoundation.python.3.10_qbz5n2kfra8p0\\localcache\\local-packages\\python310\\site-packages (from dvc->dvc-gdrive) (23.2.0)\n",
      "Requirement already satisfied: requests>=2.22 in c:\\users\\shahb\\appdata\\local\\packages\\pythonsoftwarefoundation.python.3.10_qbz5n2kfra8p0\\localcache\\local-packages\\python310\\site-packages (from dvc->dvc-gdrive) (2.31.0)\n",
      "Requirement already satisfied: dvc-task<1,>=0.3.0 in c:\\users\\shahb\\appdata\\local\\packages\\pythonsoftwarefoundation.python.3.10_qbz5n2kfra8p0\\localcache\\local-packages\\python310\\site-packages (from dvc->dvc-gdrive) (0.4.0)\n",
      "Requirement already satisfied: colorama>=0.3.9 in c:\\users\\shahb\\appdata\\local\\packages\\pythonsoftwarefoundation.python.3.10_qbz5n2kfra8p0\\localcache\\local-packages\\python310\\site-packages (from dvc->dvc-gdrive) (0.4.6)\n",
      "Requirement already satisfied: six in c:\\users\\shahb\\appdata\\local\\packages\\pythonsoftwarefoundation.python.3.10_qbz5n2kfra8p0\\localcache\\local-packages\\python310\\site-packages (from configobj>=5.0.6->dvc->dvc-gdrive) (1.16.0)\n",
      "Requirement already satisfied: diskcache>=5.2.1 in c:\\users\\shahb\\appdata\\local\\packages\\pythonsoftwarefoundation.python.3.10_qbz5n2kfra8p0\\localcache\\local-packages\\python310\\site-packages (from dvc-data<3.16,>=3.15->dvc->dvc-gdrive) (5.6.3)\n",
      "Requirement already satisfied: dictdiffer>=0.8.1 in c:\\users\\shahb\\appdata\\local\\packages\\pythonsoftwarefoundation.python.3.10_qbz5n2kfra8p0\\localcache\\local-packages\\python310\\site-packages (from dvc-data<3.16,>=3.15->dvc->dvc-gdrive) (0.9.0)\n",
      "Requirement already satisfied: sqltrie<1,>=0.11.0 in c:\\users\\shahb\\appdata\\local\\packages\\pythonsoftwarefoundation.python.3.10_qbz5n2kfra8p0\\localcache\\local-packages\\python310\\site-packages (from dvc-data<3.16,>=3.15->dvc->dvc-gdrive) (0.11.0)\n",
      "Requirement already satisfied: aiohttp-retry>=2.5.0 in c:\\users\\shahb\\appdata\\local\\packages\\pythonsoftwarefoundation.python.3.10_qbz5n2kfra8p0\\localcache\\local-packages\\python310\\site-packages (from dvc-http>=2.29.0->dvc->dvc-gdrive) (2.8.3)\n",
      "Requirement already satisfied: pywin32>=225 in c:\\users\\shahb\\appdata\\local\\packages\\pythonsoftwarefoundation.python.3.10_qbz5n2kfra8p0\\localcache\\local-packages\\python310\\site-packages (from dvc-task<1,>=0.3.0->dvc->dvc-gdrive) (306)\n",
      "Requirement already satisfied: click<9.0,>=8.1.2 in c:\\users\\shahb\\appdata\\local\\packages\\pythonsoftwarefoundation.python.3.10_qbz5n2kfra8p0\\localcache\\local-packages\\python310\\site-packages (from celery->dvc->dvc-gdrive) (8.1.7)\n",
      "Requirement already satisfied: vine<6.0,>=5.1.0 in c:\\users\\shahb\\appdata\\local\\packages\\pythonsoftwarefoundation.python.3.10_qbz5n2kfra8p0\\localcache\\local-packages\\python310\\site-packages (from celery->dvc->dvc-gdrive) (5.1.0)\n",
      "Requirement already satisfied: python-dateutil>=2.8.2 in c:\\users\\shahb\\appdata\\local\\packages\\pythonsoftwarefoundation.python.3.10_qbz5n2kfra8p0\\localcache\\local-packages\\python310\\site-packages (from celery->dvc->dvc-gdrive) (2.9.0.post0)\n",
      "Requirement already satisfied: tzdata>=2022.7 in c:\\users\\shahb\\appdata\\local\\packages\\pythonsoftwarefoundation.python.3.10_qbz5n2kfra8p0\\localcache\\local-packages\\python310\\site-packages (from celery->dvc->dvc-gdrive) (2024.1)\n",
      "Requirement already satisfied: billiard<5.0,>=4.2.0 in c:\\users\\shahb\\appdata\\local\\packages\\pythonsoftwarefoundation.python.3.10_qbz5n2kfra8p0\\localcache\\local-packages\\python310\\site-packages (from celery->dvc->dvc-gdrive) (4.2.0)\n",
      "Requirement already satisfied: click-plugins>=1.1.1 in c:\\users\\shahb\\appdata\\local\\packages\\pythonsoftwarefoundation.python.3.10_qbz5n2kfra8p0\\localcache\\local-packages\\python310\\site-packages (from celery->dvc->dvc-gdrive) (1.1.1)\n",
      "Requirement already satisfied: click-repl>=0.2.0 in c:\\users\\shahb\\appdata\\local\\packages\\pythonsoftwarefoundation.python.3.10_qbz5n2kfra8p0\\localcache\\local-packages\\python310\\site-packages (from celery->dvc->dvc-gdrive) (0.3.0)\n",
      "Requirement already satisfied: click-didyoumean>=0.3.0 in c:\\users\\shahb\\appdata\\local\\packages\\pythonsoftwarefoundation.python.3.10_qbz5n2kfra8p0\\localcache\\local-packages\\python310\\site-packages (from celery->dvc->dvc-gdrive) (0.3.1)\n",
      "Requirement already satisfied: atpublic>=2.3 in c:\\users\\shahb\\appdata\\local\\packages\\pythonsoftwarefoundation.python.3.10_qbz5n2kfra8p0\\localcache\\local-packages\\python310\\site-packages (from flufl.lock<8,>=5->dvc->dvc-gdrive) (4.1.0)\n",
      "Requirement already satisfied: uritemplate<5,>=3.0.1 in c:\\users\\shahb\\appdata\\local\\packages\\pythonsoftwarefoundation.python.3.10_qbz5n2kfra8p0\\localcache\\local-packages\\python310\\site-packages (from google-api-python-client>=1.12.5->pydrive2[fsspec]>=1.19.0->dvc-gdrive) (4.1.1)\n",
      "Requirement already satisfied: google-auth-httplib2<1.0.0,>=0.2.0 in c:\\users\\shahb\\appdata\\local\\packages\\pythonsoftwarefoundation.python.3.10_qbz5n2kfra8p0\\localcache\\local-packages\\python310\\site-packages (from google-api-python-client>=1.12.5->pydrive2[fsspec]>=1.19.0->dvc-gdrive) (0.2.0)\n",
      "Requirement already satisfied: httplib2<1.dev0,>=0.19.0 in c:\\users\\shahb\\appdata\\local\\packages\\pythonsoftwarefoundation.python.3.10_qbz5n2kfra8p0\\localcache\\local-packages\\python310\\site-packages (from google-api-python-client>=1.12.5->pydrive2[fsspec]>=1.19.0->dvc-gdrive) (0.22.0)\n",
      "Requirement already satisfied: google-api-core!=2.0.*,!=2.1.*,!=2.2.*,!=2.3.0,<3.0.0.dev0,>=1.31.5 in c:\\users\\shahb\\appdata\\local\\packages\\pythonsoftwarefoundation.python.3.10_qbz5n2kfra8p0\\localcache\\local-packages\\python310\\site-packages (from google-api-python-client>=1.12.5->pydrive2[fsspec]>=1.19.0->dvc-gdrive) (2.18.0)\n",
      "Requirement already satisfied: google-auth!=2.24.0,!=2.25.0,<3.0.0.dev0,>=1.32.0 in c:\\users\\shahb\\appdata\\local\\packages\\pythonsoftwarefoundation.python.3.10_qbz5n2kfra8p0\\localcache\\local-packages\\python310\\site-packages (from google-api-python-client>=1.12.5->pydrive2[fsspec]>=1.19.0->dvc-gdrive) (2.29.0)\n",
      "Requirement already satisfied: entrypoints in c:\\users\\shahb\\appdata\\local\\packages\\pythonsoftwarefoundation.python.3.10_qbz5n2kfra8p0\\localcache\\local-packages\\python310\\site-packages (from gto<2,>=1.6.0->dvc->dvc-gdrive) (0.4)\n",
      "Requirement already satisfied: pydantic!=2.0.0,<3,>=1.9.0 in c:\\users\\shahb\\appdata\\local\\packages\\pythonsoftwarefoundation.python.3.10_qbz5n2kfra8p0\\localcache\\local-packages\\python310\\site-packages (from gto<2,>=1.6.0->dvc->dvc-gdrive) (1.10.15)\n",
      "Requirement already satisfied: typer>=0.4.1 in c:\\users\\shahb\\appdata\\local\\packages\\pythonsoftwarefoundation.python.3.10_qbz5n2kfra8p0\\localcache\\local-packages\\python310\\site-packages (from gto<2,>=1.6.0->dvc->dvc-gdrive) (0.12.3)\n",
      "Requirement already satisfied: semver>=2.13.0 in c:\\users\\shahb\\appdata\\local\\packages\\pythonsoftwarefoundation.python.3.10_qbz5n2kfra8p0\\localcache\\local-packages\\python310\\site-packages (from gto<2,>=1.6.0->dvc->dvc-gdrive) (3.0.2)\n",
      "Requirement already satisfied: antlr4-python3-runtime==4.9.* in c:\\users\\shahb\\appdata\\local\\packages\\pythonsoftwarefoundation.python.3.10_qbz5n2kfra8p0\\localcache\\local-packages\\python310\\site-packages (from hydra-core>=1.1->dvc->dvc-gdrive) (4.9.3)\n",
      "Requirement already satisfied: filelock in c:\\users\\shahb\\appdata\\local\\packages\\pythonsoftwarefoundation.python.3.10_qbz5n2kfra8p0\\localcache\\local-packages\\python310\\site-packages (from iterative-telemetry>=0.0.7->dvc->dvc-gdrive) (3.13.4)\n",
      "Requirement already satisfied: amqp<6.0.0,>=5.1.1 in c:\\users\\shahb\\appdata\\local\\packages\\pythonsoftwarefoundation.python.3.10_qbz5n2kfra8p0\\localcache\\local-packages\\python310\\site-packages (from kombu->dvc->dvc-gdrive) (5.2.0)\n",
      "Requirement already satisfied: pyasn1>=0.1.7 in c:\\users\\shahb\\appdata\\local\\packages\\pythonsoftwarefoundation.python.3.10_qbz5n2kfra8p0\\localcache\\local-packages\\python310\\site-packages (from oauth2client>=4.0.0->pydrive2[fsspec]>=1.19.0->dvc-gdrive) (0.6.0)\n",
      "Requirement already satisfied: pyasn1-modules>=0.0.5 in c:\\users\\shahb\\appdata\\local\\packages\\pythonsoftwarefoundation.python.3.10_qbz5n2kfra8p0\\localcache\\local-packages\\python310\\site-packages (from oauth2client>=4.0.0->pydrive2[fsspec]>=1.19.0->dvc-gdrive) (0.4.0)\n",
      "Requirement already satisfied: rsa>=3.1.4 in c:\\users\\shahb\\appdata\\local\\packages\\pythonsoftwarefoundation.python.3.10_qbz5n2kfra8p0\\localcache\\local-packages\\python310\\site-packages (from oauth2client>=4.0.0->pydrive2[fsspec]>=1.19.0->dvc-gdrive) (4.9)\n",
      "Requirement already satisfied: cryptography<43,>=41.0.5 in c:\\users\\shahb\\appdata\\local\\packages\\pythonsoftwarefoundation.python.3.10_qbz5n2kfra8p0\\localcache\\local-packages\\python310\\site-packages (from pyOpenSSL>=19.1.0->pydrive2[fsspec]>=1.19.0->dvc-gdrive) (42.0.5)\n",
      "Requirement already satisfied: certifi>=2017.4.17 in c:\\users\\shahb\\appdata\\local\\packages\\pythonsoftwarefoundation.python.3.10_qbz5n2kfra8p0\\localcache\\local-packages\\python310\\site-packages (from requests>=2.22->dvc->dvc-gdrive) (2023.11.17)\n",
      "Requirement already satisfied: idna<4,>=2.5 in c:\\users\\shahb\\appdata\\local\\packages\\pythonsoftwarefoundation.python.3.10_qbz5n2kfra8p0\\localcache\\local-packages\\python310\\site-packages (from requests>=2.22->dvc->dvc-gdrive) (3.6)\n",
      "Requirement already satisfied: charset-normalizer<4,>=2 in c:\\users\\shahb\\appdata\\local\\packages\\pythonsoftwarefoundation.python.3.10_qbz5n2kfra8p0\\localcache\\local-packages\\python310\\site-packages (from requests>=2.22->dvc->dvc-gdrive) (3.3.2)\n",
      "Requirement already satisfied: urllib3<3,>=1.21.1 in c:\\users\\shahb\\appdata\\local\\packages\\pythonsoftwarefoundation.python.3.10_qbz5n2kfra8p0\\localcache\\local-packages\\python310\\site-packages (from requests>=2.22->dvc->dvc-gdrive) (2.1.0)\n",
      "Requirement already satisfied: pygments<3.0.0,>=2.13.0 in c:\\users\\shahb\\appdata\\local\\packages\\pythonsoftwarefoundation.python.3.10_qbz5n2kfra8p0\\localcache\\local-packages\\python310\\site-packages (from rich>=12->dvc->dvc-gdrive) (2.17.2)\n",
      "Requirement already satisfied: markdown-it-py>=2.2.0 in c:\\users\\shahb\\appdata\\local\\packages\\pythonsoftwarefoundation.python.3.10_qbz5n2kfra8p0\\localcache\\local-packages\\python310\\site-packages (from rich>=12->dvc->dvc-gdrive) (3.0.0)\n",
      "Requirement already satisfied: ruamel.yaml.clib>=0.2.7 in c:\\users\\shahb\\appdata\\local\\packages\\pythonsoftwarefoundation.python.3.10_qbz5n2kfra8p0\\localcache\\local-packages\\python310\\site-packages (from ruamel.yaml>=0.17.11->dvc->dvc-gdrive) (0.2.8)\n",
      "Requirement already satisfied: asyncssh<3,>=2.13.1 in c:\\users\\shahb\\appdata\\local\\packages\\pythonsoftwarefoundation.python.3.10_qbz5n2kfra8p0\\localcache\\local-packages\\python310\\site-packages (from scmrepo<4,>=3.3.2->dvc->dvc-gdrive) (2.14.2)\n",
      "Requirement already satisfied: pygit2>=1.14.0 in c:\\users\\shahb\\appdata\\local\\packages\\pythonsoftwarefoundation.python.3.10_qbz5n2kfra8p0\\localcache\\local-packages\\python310\\site-packages (from scmrepo<4,>=3.3.2->dvc->dvc-gdrive) (1.14.1)\n",
      "Requirement already satisfied: gitpython>3 in c:\\users\\shahb\\appdata\\local\\packages\\pythonsoftwarefoundation.python.3.10_qbz5n2kfra8p0\\localcache\\local-packages\\python310\\site-packages (from scmrepo<4,>=3.3.2->dvc->dvc-gdrive) (3.1.43)\n",
      "Requirement already satisfied: setuptools in c:\\program files\\windowsapps\\pythonsoftwarefoundation.python.3.10_3.10.3056.0_x64__qbz5n2kfra8p0\\lib\\site-packages (from zc.lockfile>=1.2.1->dvc->dvc-gdrive) (65.5.0)\n",
      "Requirement already satisfied: aiohttp in c:\\users\\shahb\\appdata\\local\\packages\\pythonsoftwarefoundation.python.3.10_qbz5n2kfra8p0\\localcache\\local-packages\\python310\\site-packages (from aiohttp-retry>=2.5.0->dvc-http>=2.29.0->dvc->dvc-gdrive) (3.9.5)\n",
      "Requirement already satisfied: typing-extensions>=3.6 in c:\\users\\shahb\\appdata\\local\\packages\\pythonsoftwarefoundation.python.3.10_qbz5n2kfra8p0\\localcache\\local-packages\\python310\\site-packages (from asyncssh<3,>=2.13.1->scmrepo<4,>=3.3.2->dvc->dvc-gdrive) (4.10.0)\n",
      "Requirement already satisfied: prompt-toolkit>=3.0.36 in c:\\users\\shahb\\appdata\\local\\packages\\pythonsoftwarefoundation.python.3.10_qbz5n2kfra8p0\\localcache\\local-packages\\python310\\site-packages (from click-repl>=0.2.0->celery->dvc->dvc-gdrive) (3.0.43)\n",
      "Requirement already satisfied: cffi>=1.12 in c:\\users\\shahb\\appdata\\local\\packages\\pythonsoftwarefoundation.python.3.10_qbz5n2kfra8p0\\localcache\\local-packages\\python310\\site-packages (from cryptography<43,>=41.0.5->pyOpenSSL>=19.1.0->pydrive2[fsspec]>=1.19.0->dvc-gdrive) (1.16.0)\n",
      "Requirement already satisfied: gitdb<5,>=4.0.1 in c:\\users\\shahb\\appdata\\local\\packages\\pythonsoftwarefoundation.python.3.10_qbz5n2kfra8p0\\localcache\\local-packages\\python310\\site-packages (from gitpython>3->scmrepo<4,>=3.3.2->dvc->dvc-gdrive) (4.0.11)\n",
      "Requirement already satisfied: googleapis-common-protos<2.0.dev0,>=1.56.2 in c:\\users\\shahb\\appdata\\local\\packages\\pythonsoftwarefoundation.python.3.10_qbz5n2kfra8p0\\localcache\\local-packages\\python310\\site-packages (from google-api-core!=2.0.*,!=2.1.*,!=2.2.*,!=2.3.0,<3.0.0.dev0,>=1.31.5->google-api-python-client>=1.12.5->pydrive2[fsspec]>=1.19.0->dvc-gdrive) (1.63.0)\n",
      "Requirement already satisfied: protobuf!=3.20.0,!=3.20.1,!=4.21.0,!=4.21.1,!=4.21.2,!=4.21.3,!=4.21.4,!=4.21.5,<5.0.0.dev0,>=3.19.5 in c:\\users\\shahb\\appdata\\local\\packages\\pythonsoftwarefoundation.python.3.10_qbz5n2kfra8p0\\localcache\\local-packages\\python310\\site-packages (from google-api-core!=2.0.*,!=2.1.*,!=2.2.*,!=2.3.0,<3.0.0.dev0,>=1.31.5->google-api-python-client>=1.12.5->pydrive2[fsspec]>=1.19.0->dvc-gdrive) (4.25.3)\n",
      "Requirement already satisfied: proto-plus<2.0.0dev,>=1.22.3 in c:\\users\\shahb\\appdata\\local\\packages\\pythonsoftwarefoundation.python.3.10_qbz5n2kfra8p0\\localcache\\local-packages\\python310\\site-packages (from google-api-core!=2.0.*,!=2.1.*,!=2.2.*,!=2.3.0,<3.0.0.dev0,>=1.31.5->google-api-python-client>=1.12.5->pydrive2[fsspec]>=1.19.0->dvc-gdrive) (1.23.0)\n",
      "Requirement already satisfied: cachetools<6.0,>=2.0.0 in c:\\users\\shahb\\appdata\\local\\packages\\pythonsoftwarefoundation.python.3.10_qbz5n2kfra8p0\\localcache\\local-packages\\python310\\site-packages (from google-auth!=2.24.0,!=2.25.0,<3.0.0.dev0,>=1.32.0->google-api-python-client>=1.12.5->pydrive2[fsspec]>=1.19.0->dvc-gdrive) (5.3.3)\n",
      "Requirement already satisfied: mdurl~=0.1 in c:\\users\\shahb\\appdata\\local\\packages\\pythonsoftwarefoundation.python.3.10_qbz5n2kfra8p0\\localcache\\local-packages\\python310\\site-packages (from markdown-it-py>=2.2.0->rich>=12->dvc->dvc-gdrive) (0.1.2)\n",
      "Requirement already satisfied: orjson in c:\\users\\shahb\\appdata\\local\\packages\\pythonsoftwarefoundation.python.3.10_qbz5n2kfra8p0\\localcache\\local-packages\\python310\\site-packages (from sqltrie<1,>=0.11.0->dvc-data<3.16,>=3.15->dvc->dvc-gdrive) (3.10.1)\n",
      "Requirement already satisfied: shellingham>=1.3.0 in c:\\users\\shahb\\appdata\\local\\packages\\pythonsoftwarefoundation.python.3.10_qbz5n2kfra8p0\\localcache\\local-packages\\python310\\site-packages (from typer>=0.4.1->gto<2,>=1.6.0->dvc->dvc-gdrive) (1.5.4)\n",
      "Requirement already satisfied: async-timeout<5.0,>=4.0 in c:\\users\\shahb\\appdata\\local\\packages\\pythonsoftwarefoundation.python.3.10_qbz5n2kfra8p0\\localcache\\local-packages\\python310\\site-packages (from aiohttp->aiohttp-retry>=2.5.0->dvc-http>=2.29.0->dvc->dvc-gdrive) (4.0.3)\n",
      "Requirement already satisfied: multidict<7.0,>=4.5 in c:\\users\\shahb\\appdata\\local\\packages\\pythonsoftwarefoundation.python.3.10_qbz5n2kfra8p0\\localcache\\local-packages\\python310\\site-packages (from aiohttp->aiohttp-retry>=2.5.0->dvc-http>=2.29.0->dvc->dvc-gdrive) (6.0.5)\n",
      "Requirement already satisfied: frozenlist>=1.1.1 in c:\\users\\shahb\\appdata\\local\\packages\\pythonsoftwarefoundation.python.3.10_qbz5n2kfra8p0\\localcache\\local-packages\\python310\\site-packages (from aiohttp->aiohttp-retry>=2.5.0->dvc-http>=2.29.0->dvc->dvc-gdrive) (1.4.1)\n",
      "Requirement already satisfied: yarl<2.0,>=1.0 in c:\\users\\shahb\\appdata\\local\\packages\\pythonsoftwarefoundation.python.3.10_qbz5n2kfra8p0\\localcache\\local-packages\\python310\\site-packages (from aiohttp->aiohttp-retry>=2.5.0->dvc-http>=2.29.0->dvc->dvc-gdrive) (1.9.4)\n",
      "Requirement already satisfied: aiosignal>=1.1.2 in c:\\users\\shahb\\appdata\\local\\packages\\pythonsoftwarefoundation.python.3.10_qbz5n2kfra8p0\\localcache\\local-packages\\python310\\site-packages (from aiohttp->aiohttp-retry>=2.5.0->dvc-http>=2.29.0->dvc->dvc-gdrive) (1.3.1)\n",
      "Requirement already satisfied: pycparser in c:\\users\\shahb\\appdata\\local\\packages\\pythonsoftwarefoundation.python.3.10_qbz5n2kfra8p0\\localcache\\local-packages\\python310\\site-packages (from cffi>=1.12->cryptography<43,>=41.0.5->pyOpenSSL>=19.1.0->pydrive2[fsspec]>=1.19.0->dvc-gdrive) (2.22)\n",
      "Requirement already satisfied: smmap<6,>=3.0.1 in c:\\users\\shahb\\appdata\\local\\packages\\pythonsoftwarefoundation.python.3.10_qbz5n2kfra8p0\\localcache\\local-packages\\python310\\site-packages (from gitdb<5,>=4.0.1->gitpython>3->scmrepo<4,>=3.3.2->dvc->dvc-gdrive) (5.0.1)\n",
      "Requirement already satisfied: wcwidth in c:\\users\\shahb\\appdata\\local\\packages\\pythonsoftwarefoundation.python.3.10_qbz5n2kfra8p0\\localcache\\local-packages\\python310\\site-packages (from prompt-toolkit>=3.0.36->click-repl>=0.2.0->celery->dvc->dvc-gdrive) (0.2.13)\n",
      "Note: you may need to restart the kernel to use updated packages.\n"
     ]
    },
    {
     "name": "stderr",
     "output_type": "stream",
     "text": [
      "\n",
      "[notice] A new release of pip is available: 23.0.1 -> 24.0\n",
      "[notice] To update, run: C:\\Users\\shahb\\AppData\\Local\\Microsoft\\WindowsApps\\PythonSoftwareFoundation.Python.3.10_qbz5n2kfra8p0\\python.exe -m pip install --upgrade pip\n"
     ]
    }
   ],
   "source": [
    "pip install dvc-gdrive\n"
   ]
  },
  {
   "cell_type": "code",
   "execution_count": 11,
   "metadata": {},
   "outputs": [
    {
     "name": "stdout",
     "output_type": "stream",
     "text": [
      "Your browser has been opened to visit:\n",
      "\n",
      "    https://accounts.google.com/o/oauth2/auth?client_id=710796635688-iivsgbgsb6uv1fap6635dhvuei09o66c.apps.googleusercontent.com&redirect_uri=http%3A%2F%2Flocalhost%3A8090%2F&scope=https%3A%2F%2Fwww.googleapis.com%2Fauth%2Fdrive+https%3A%2F%2Fwww.googleapis.com%2Fauth%2Fdrive.appdata&access_type=offline&response_type=code&approval_prompt=force\n",
      "\n",
      "Authentication successful.\n",
      "1 file pushed\n"
     ]
    },
    {
     "name": "stderr",
     "output_type": "stream",
     "text": [
      "C:\\Users\\shahb\\AppData\\Local\\Packages\\PythonSoftwareFoundation.Python.3.10_qbz5n2kfra8p0\\LocalCache\\local-packages\\Python310\\site-packages\\oauth2client\\_helpers.py:255: UserWarning: Cannot access C:\\Users\\shahb\\AppData\\Local\\pydrive2fs\\Cache\\710796635688-iivsgbgsb6uv1fap6635dhvuei09o66c.apps.googleusercontent.com\\default.json: No such file or directory\n",
      "  warnings.warn(_MISSING_FILE_MESSAGE.format(filename))\n"
     ]
    }
   ],
   "source": [
    "!dvc push"
   ]
  },
  {
   "cell_type": "code",
   "execution_count": 13,
   "metadata": {},
   "outputs": [
    {
     "name": "stderr",
     "output_type": "stream",
     "text": [
      "warning: in the working copy of 'task6.ipynb', LF will be replaced by CRLF the next time Git touches it\n"
     ]
    }
   ],
   "source": [
    "!git add ."
   ]
  },
  {
   "cell_type": "code",
   "execution_count": 14,
   "metadata": {},
   "outputs": [
    {
     "name": "stdout",
     "output_type": "stream",
     "text": [
      "[master (root-commit) d1854bf] Add dataset with DVC\n",
      " 6 files changed, 455 insertions(+)\n",
      " create mode 100644 .dvc/.gitignore\n",
      " create mode 100644 .dvc/config\n",
      " create mode 100644 .dvcignore\n",
      " create mode 100644 .gitignore\n",
      " create mode 100644 task6.ipynb\n",
      " create mode 100644 tmdb_5000_credits.csv.dvc\n"
     ]
    }
   ],
   "source": [
    "!git commit -m \"Add dataset with DVC\""
   ]
  },
  {
   "cell_type": "code",
   "execution_count": 20,
   "metadata": {},
   "outputs": [],
   "source": [
    "!git remote add origin2 https://github.com/Fatimaahkhan/MLOPS_Task6.git\n"
   ]
  },
  {
   "cell_type": "code",
   "execution_count": null,
   "metadata": {},
   "outputs": [],
   "source": []
  }
 ],
 "metadata": {
  "kernelspec": {
   "display_name": "Python 3",
   "language": "python",
   "name": "python3"
  },
  "language_info": {
   "codemirror_mode": {
    "name": "ipython",
    "version": 3
   },
   "file_extension": ".py",
   "mimetype": "text/x-python",
   "name": "python",
   "nbconvert_exporter": "python",
   "pygments_lexer": "ipython3",
   "version": "3.10.11"
  }
 },
 "nbformat": 4,
 "nbformat_minor": 2
}
